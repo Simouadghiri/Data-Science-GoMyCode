{
 "cells": [
  {
   "cell_type": "code",
   "execution_count": 6,
   "id": "541a6098-e2f5-49c9-b891-e1a35c8d14e2",
   "metadata": {},
   "outputs": [
    {
     "name": "stdout",
     "output_type": "stream",
     "text": [
      "Bienvenue dans Python Pizza Delivery\n"
     ]
    }
   ],
   "source": [
    "print(\"Bienvenue dans Python Pizza Delivery\")"
   ]
  },
  {
   "cell_type": "code",
   "execution_count": 8,
   "id": "e063b4b4-ed6d-4c40-99aa-f8047de79e86",
   "metadata": {
    "scrolled": true
   },
   "outputs": [
    {
     "name": "stdin",
     "output_type": "stream",
     "text": [
      "Quelle taille souhaitez-vous? Saisissez S pour Petite, M pour Moyenne, L pour Large L\n"
     ]
    }
   ],
   "source": [
    "taille = input(\"Quelle taille souhaitez-vous? Saisissez S pour Petite, M pour Moyenne, L pour Large\")"
   ]
  },
  {
   "cell_type": "code",
   "execution_count": 9,
   "id": "3e019861-16de-42b0-ae29-d84218acba48",
   "metadata": {},
   "outputs": [
    {
     "name": "stdin",
     "output_type": "stream",
     "text": [
      "Souhaitez vous ajouter du Pepperoni? Y pour Oui, N pour No Y\n"
     ]
    }
   ],
   "source": [
    "add_pepperoni = input(\"Souhaitez vous ajouter du Pepperoni? Y pour Oui, N pour No\")"
   ]
  },
  {
   "cell_type": "code",
   "execution_count": 10,
   "id": "383b9592-642d-495f-b84e-b11aac3b2416",
   "metadata": {},
   "outputs": [
    {
     "name": "stdin",
     "output_type": "stream",
     "text": [
      "Souhaitez vous ajouter du fromage? Y pour Oui, N pour No Y\n"
     ]
    }
   ],
   "source": [
    "extra_cheese = input(\"Souhaitez vous ajouter du fromage? Y pour Oui, N pour No\")"
   ]
  },
  {
   "cell_type": "code",
   "execution_count": 11,
   "id": "b49756f8-ce4f-4dc7-9bb4-5ecccfd67361",
   "metadata": {},
   "outputs": [],
   "source": [
    "if taille.upper() == \"S\":\n",
    "    cost = 15\n",
    "elif taille.upper() == \"M\":\n",
    "    cost = 20\n",
    "elif taille.upper() == \"L\":\n",
    "    cost = 25"
   ]
  },
  {
   "cell_type": "code",
   "execution_count": 15,
   "id": "bfe9fa9b-caf6-42ca-9f40-6c03cc9c38d0",
   "metadata": {},
   "outputs": [],
   "source": [
    "sup1 = 0\n",
    "if taille.upper() == \"S\" and add_pepperoni.upper() == \"Y\":\n",
    "      sup1 = 2 \n",
    "elif  (taille.upper() == \"M\" or taille.upper() == \"L\") and add_pepperoni.upper() == \"Y\" :\n",
    "        sup1   = 3"
   ]
  },
  {
   "cell_type": "code",
   "execution_count": 16,
   "id": "99f13f73-fca8-4813-8b06-ff3c76021471",
   "metadata": {},
   "outputs": [],
   "source": [
    "sup2=0\n",
    "if extra_cheese==\"Y\":\n",
    "    sup2=1"
   ]
  },
  {
   "cell_type": "code",
   "execution_count": 17,
   "id": "e42fdd65-7377-4105-82b3-0c8c9dcd0e72",
   "metadata": {},
   "outputs": [
    {
     "name": "stdout",
     "output_type": "stream",
     "text": [
      "Votre facture: 29\n"
     ]
    }
   ],
   "source": [
    "Facture = cost + sup1 + sup2\n",
    "print(\"Votre facture:\",Facture)"
   ]
  },
  {
   "cell_type": "code",
   "execution_count": null,
   "id": "2e801c9f-92c0-4a39-a51c-58d9d3c29ce0",
   "metadata": {},
   "outputs": [],
   "source": []
  },
  {
   "cell_type": "code",
   "execution_count": null,
   "id": "e9d41d6a-4b18-4a57-b8ff-1a647541536c",
   "metadata": {},
   "outputs": [],
   "source": []
  },
  {
   "cell_type": "code",
   "execution_count": null,
   "id": "cd2b14a7-33e2-4572-ba01-4e3eb55b4f60",
   "metadata": {},
   "outputs": [],
   "source": []
  },
  {
   "cell_type": "code",
   "execution_count": null,
   "id": "47854d78-0424-4594-be2f-1767fbe3a9b0",
   "metadata": {},
   "outputs": [],
   "source": []
  },
  {
   "cell_type": "code",
   "execution_count": null,
   "id": "25df2b87-0884-4230-b3e7-90692de9b45a",
   "metadata": {},
   "outputs": [],
   "source": []
  }
 ],
 "metadata": {
  "kernelspec": {
   "display_name": "Python 3 (ipykernel)",
   "language": "python",
   "name": "python3"
  },
  "language_info": {
   "codemirror_mode": {
    "name": "ipython",
    "version": 3
   },
   "file_extension": ".py",
   "mimetype": "text/x-python",
   "name": "python",
   "nbconvert_exporter": "python",
   "pygments_lexer": "ipython3",
   "version": "3.11.7"
  }
 },
 "nbformat": 4,
 "nbformat_minor": 5
}
