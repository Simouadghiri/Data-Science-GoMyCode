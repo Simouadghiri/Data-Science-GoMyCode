{
 "cells": [
  {
   "cell_type": "code",
   "execution_count": 1,
   "id": "522db88a-6103-4b9e-905a-edf14fd832d4",
   "metadata": {},
   "outputs": [
    {
     "name": "stdout",
     "output_type": "stream",
     "text": [
      "Requirement already satisfied: pandas in c:\\users\\pc\\anaconda3\\lib\\site-packages (2.1.4)\n",
      "Requirement already satisfied: numpy<2,>=1.23.2 in c:\\users\\pc\\anaconda3\\lib\\site-packages (from pandas) (1.26.4)\n",
      "Requirement already satisfied: python-dateutil>=2.8.2 in c:\\users\\pc\\anaconda3\\lib\\site-packages (from pandas) (2.8.2)\n",
      "Requirement already satisfied: pytz>=2020.1 in c:\\users\\pc\\anaconda3\\lib\\site-packages (from pandas) (2023.3.post1)\n",
      "Requirement already satisfied: tzdata>=2022.1 in c:\\users\\pc\\anaconda3\\lib\\site-packages (from pandas) (2023.3)\n",
      "Requirement already satisfied: six>=1.5 in c:\\users\\pc\\anaconda3\\lib\\site-packages (from python-dateutil>=2.8.2->pandas) (1.16.0)\n"
     ]
    }
   ],
   "source": [
    "!pip install pandas"
   ]
  },
  {
   "cell_type": "code",
   "execution_count": 3,
   "id": "2e18329a-a922-4798-b353-4a4b0779a98f",
   "metadata": {},
   "outputs": [],
   "source": [
    "import pandas as pd"
   ]
  },
  {
   "cell_type": "code",
   "execution_count": 18,
   "id": "dba5f061-a355-47f4-853f-44588c3fee04",
   "metadata": {},
   "outputs": [],
   "source": [
    "data = { \n",
    "    'Nom': ['John', 'Mary', 'Bob', 'Sarah', 'Tom', 'Lisa'],\n",
    "    'Département': ['IT', 'Marketing', 'Sales', 'IT', 'Finance', 'Marketing'],\n",
    "    'Age': [30, 40, 25, 35, 45, 28],\n",
    "    'Sexe': ['Homme', 'Femme', 'Homme', 'Femme', 'Homme', 'Femme'],\n",
    "    'Salaire': [50000, 60000, 45000, 55000, 70000, 55000],\n",
    "    'Expérience' : [3, 7, 2, 5, 10, 4],\n",
    "}\n",
    "employe_df = pd.DataFrame (data)"
   ]
  },
  {
   "cell_type": "code",
   "execution_count": 22,
   "id": "fb9b1958-ec60-4dca-9a09-cac5db913bcf",
   "metadata": {},
   "outputs": [
    {
     "name": "stdout",
     "output_type": "stream",
     "text": [
      "Les 3 premières lignes de la trame de données :     Nom Département  Age   Sexe  Salaire  Expérience\n",
      "0  John          IT   30  Homme    50000           3\n",
      "1  Mary   Marketing   40  Femme    60000           7\n",
      "2   Bob       Sales   25  Homme    45000           2\n"
     ]
    }
   ],
   "source": [
    "Trois_première_lignes = employe_df.iloc[:3]\n",
    "print (\"Les 3 premières lignes de la trame de données :\", Trois_première_lignes)"
   ]
  },
  {
   "cell_type": "code",
   "execution_count": 25,
   "id": "8151ee67-5bd2-4e06-9ff2-dcfaac19e2a9",
   "metadata": {},
   "outputs": [
    {
     "name": "stdout",
     "output_type": "stream",
     "text": [
      " Toutes les lignes où le département est « Marketing »     Nom Département  Age   Sexe  Salaire  Expérience\n",
      "1  Mary   Marketing   40  Femme    60000           7\n",
      "5  Lisa   Marketing   28  Femme    55000           4\n"
     ]
    }
   ],
   "source": [
    "marketing_df = employe_df.loc[employe_df['Département'] == 'Marketing']\n",
    "print (\" Toutes les lignes où le département est « Marketing »\", marketing_df)"
   ]
  },
  {
   "cell_type": "code",
   "execution_count": 29,
   "id": "34ae5de7-8c0f-48b1-bba0-6cb4b0a089df",
   "metadata": {},
   "outputs": [
    {
     "ename": "SyntaxError",
     "evalue": "unmatched ')' (401227323.py, line 2)",
     "output_type": "error",
     "traceback": [
      "\u001b[1;36m  Cell \u001b[1;32mIn[29], line 2\u001b[1;36m\u001b[0m\n\u001b[1;33m    print (\"les colonnes Âge et Sexe pour les 4 premières lignes du dataframe\"), Age_Sex_Quatre_Ligne)\u001b[0m\n\u001b[1;37m                                                                                                     ^\u001b[0m\n\u001b[1;31mSyntaxError\u001b[0m\u001b[1;31m:\u001b[0m unmatched ')'\n"
     ]
    }
   ],
   "source": [
    "Age_Sex_Quatre_Ligne = employe_df.iloc[:4, 2:4] \n",
    "print (\"les colonnes Âge et Sexe pour les 4 premières lignes du dataframe\"), Age_Sex_Quatre_Ligne)"
   ]
  },
  {
   "cell_type": "code",
   "execution_count": null,
   "id": "f489f747-78bf-4b2e-87f0-8dd9e61990f8",
   "metadata": {},
   "outputs": [],
   "source": []
  },
  {
   "cell_type": "code",
   "execution_count": null,
   "id": "79973e91-c296-4524-beea-60e7e8c72667",
   "metadata": {},
   "outputs": [],
   "source": []
  },
  {
   "cell_type": "code",
   "execution_count": null,
   "id": "2b803dd1-3f21-49e5-9574-edb3a7dac820",
   "metadata": {},
   "outputs": [],
   "source": []
  }
 ],
 "metadata": {
  "kernelspec": {
   "display_name": "Python 3 (ipykernel)",
   "language": "python",
   "name": "python3"
  },
  "language_info": {
   "codemirror_mode": {
    "name": "ipython",
    "version": 3
   },
   "file_extension": ".py",
   "mimetype": "text/x-python",
   "name": "python",
   "nbconvert_exporter": "python",
   "pygments_lexer": "ipython3",
   "version": "3.11.7"
  }
 },
 "nbformat": 4,
 "nbformat_minor": 5
}
