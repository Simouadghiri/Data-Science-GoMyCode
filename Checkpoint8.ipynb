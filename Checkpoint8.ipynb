{
 "cells": [
  {
   "cell_type": "code",
   "execution_count": 16,
   "id": "b02d341c-d638-49c2-9696-0fc5325e1833",
   "metadata": {},
   "outputs": [
    {
     "name": "stdin",
     "output_type": "stream",
     "text": [
      "Combien de notes souhaitez-vous entrer ?  3\n",
      "Entrez la 1ère note sur 20 :  1\n",
      "Entrez la 2ème note sur 20 :  2\n",
      "Entrez la 3ème note sur 20 :  3\n"
     ]
    },
    {
     "name": "stdout",
     "output_type": "stream",
     "text": [
      "La 1ère note est :  1.0\n",
      "La 2ème note est :  2.0\n",
      "La 3ème note est :  3.0\n"
     ]
    }
   ],
   "source": [
    "nombre_de_notes = int(input(\"Combien de notes souhaitez-vous entrer ? \"))\n",
    "notes = []\n",
    "for i in range(nombre_de_notes):\n",
    "    note = float(input(f\"Entrez la {i+1}{'ère' if i == 0 else 'ème'} note sur 20 : \"))\n",
    "    notes.append(note)\n",
    "for i in range(nombre_de_notes):\n",
    "    print(f\"La {i+1}{'ère' if i == 0 else 'ème'} note est : \",notes[i])\n",
    "    "
   ]
  },
  {
   "cell_type": "code",
   "execution_count": 20,
   "id": "6abbc4a9-ac9b-499b-9636-c3c108a3b88b",
   "metadata": {},
   "outputs": [
    {
     "name": "stdin",
     "output_type": "stream",
     "text": [
      "Combien de notes souhaitez-vous entrer ?  3\n",
      "Entrez la 1ère note sur 20 :  1\n",
      "Entrez la 2ème note sur 20 :  2\n",
      "Entrez la 3ème note sur 20 :  3\n"
     ]
    },
    {
     "name": "stdout",
     "output_type": "stream",
     "text": [
      "Le 1ère key est :  0 et la 1ère valeur est :  1.0\n",
      "Le 2ème key est :  1 et la 2ème valeur est :  2.0\n",
      "Le 3ème key est :  2 et la 3ème valeur est :  3.0\n"
     ]
    }
   ],
   "source": [
    "nombre_de_notes = int(input(\"Combien de notes souhaitez-vous entrer ? \"))\n",
    "notes = {}\n",
    "for i in range(nombre_de_notes):\n",
    "    note = float(input(f\"Entrez la {i+1}{'ère' if i == 0 else 'ème'} note sur 20 : \"))\n",
    "    notes[i]=note\n",
    "keys=list(notes.keys())\n",
    "values=list(notes.values())\n",
    "for i in range(nombre_de_notes):\n",
    "    print(f\"Le {i+1}{'ère' if i == 0 else 'ème'} key est : \",keys[i],f\"et la {i+1}{'ère' if i == 0 else 'ème'} valeur est : \",values[i])"
   ]
  },
  {
   "cell_type": "code",
   "execution_count": 21,
   "id": "874d8831-073d-4b2d-a5c4-6a2b975c70da",
   "metadata": {},
   "outputs": [
    {
     "name": "stdin",
     "output_type": "stream",
     "text": [
      "Combien de notes souhaitez-vous entrer ?  3\n",
      "Entrez la 1ère note sur 20 :  1\n",
      "Entrez la 2ème note sur 20 :  2\n",
      "Entrez la 3ème note sur 20 :  3\n"
     ]
    },
    {
     "name": "stdout",
     "output_type": "stream",
     "text": [
      "La 1ère note est :  1.0\n",
      "La 2ème note est :  2.0\n",
      "La 3ème note est :  3.0\n"
     ]
    }
   ],
   "source": [
    "nombre_de_notes = int(input(\"Combien de notes souhaitez-vous entrer ? \"))\n",
    "notes = ()\n",
    "for i in range(nombre_de_notes):\n",
    "    note = float(input(f\"Entrez la {i+1}{'ère' if i == 0 else 'ème'} note sur 20 : \"))\n",
    "    notes = notes + (note,)\n",
    "for i in range(nombre_de_notes):\n",
    "    print(f\"La {i+1}{'ère' if i == 0 else 'ème'} note est : \",notes[i])\n",
    "    "
   ]
  },
  {
   "cell_type": "code",
   "execution_count": 7,
   "id": "e64f2489-2e24-4c56-8fa5-99662201a901",
   "metadata": {},
   "outputs": [],
   "source": [
    "notes_tuple = tuple(notes)"
   ]
  },
  {
   "cell_type": "code",
   "execution_count": 8,
   "id": "69b4c910-7808-4f17-8333-03bbaf2943cd",
   "metadata": {},
   "outputs": [
    {
     "name": "stdout",
     "output_type": "stream",
     "text": [
      "Dictionnaire des notes : {1: 20.0, 2: 10.0, 3: 18.0}\n",
      "Tuple des notes : (20.0, 10.0, 18.0)\n"
     ]
    }
   ],
   "source": [
    "print(\"Dictionnaire des notes :\", notes_dict)\n",
    "print(\"Tuple des notes :\", notes_tuple)"
   ]
  },
  {
   "cell_type": "code",
   "execution_count": null,
   "id": "197e65d2-b257-482c-93f9-6e565f997bfb",
   "metadata": {},
   "outputs": [],
   "source": []
  }
 ],
 "metadata": {
  "kernelspec": {
   "display_name": "Python 3 (ipykernel)",
   "language": "python",
   "name": "python3"
  },
  "language_info": {
   "codemirror_mode": {
    "name": "ipython",
    "version": 3
   },
   "file_extension": ".py",
   "mimetype": "text/x-python",
   "name": "python",
   "nbconvert_exporter": "python",
   "pygments_lexer": "ipython3",
   "version": "3.11.7"
  }
 },
 "nbformat": 4,
 "nbformat_minor": 5
}
