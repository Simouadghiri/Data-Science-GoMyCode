{
 "cells": [
  {
   "cell_type": "code",
   "execution_count": 1,
   "id": "2929cd1d-f6df-49af-9a9f-cf26cae9cdb0",
   "metadata": {},
   "outputs": [],
   "source": [
    "import pandas as pd"
   ]
  },
  {
   "cell_type": "code",
   "execution_count": 8,
   "id": "6bfb3b76-8552-4e00-86ec-638ef7f71728",
   "metadata": {},
   "outputs": [],
   "source": [
    "df = pd.read_csv('education_attainment.csv')"
   ]
  },
  {
   "cell_type": "code",
   "execution_count": 9,
   "id": "8115f2d5-d1cb-4fc7-999a-2983f46e77ef",
   "metadata": {},
   "outputs": [
    {
     "name": "stdout",
     "output_type": "stream",
     "text": [
      "General Information about the dataset:\n",
      "<class 'pandas.core.frame.DataFrame'>\n",
      "RangeIndex: 626 entries, 0 to 625\n",
      "Data columns (total 38 columns):\n",
      " #   Column                     Non-Null Count  Dtype  \n",
      "---  ------                     --------------  -----  \n",
      " 0   Ages[15-49]_All_grade1     626 non-null    float64\n",
      " 1   Ages[15-49]_All_grade2     626 non-null    float64\n",
      " 2   Ages[15-49]_All_grade3     626 non-null    float64\n",
      " 3   Ages[20-29]_All_grade1     626 non-null    float64\n",
      " 4   Ages[20-29]_All_grade2     626 non-null    float64\n",
      " 5   Ages[20-29]_All_grade3     626 non-null    float64\n",
      " 6   Ages[30-39]_All_grade1     625 non-null    float64\n",
      " 7   Ages[30-39]_All_grade2     625 non-null    float64\n",
      " 8   Ages[30-39]_All_grade3     625 non-null    float64\n",
      " 9   Ages[40-49]_All_grade1     625 non-null    float64\n",
      " 10  Ages[40-49]_All_grade2     625 non-null    float64\n",
      " 11  Ages[40-49]_All_grade3     625 non-null    float64\n",
      " 12  Ages[15-49]_Male_grade1    626 non-null    float64\n",
      " 13  Ages[15-49]_Male_grade2    626 non-null    float64\n",
      " 14  Ages[15-49]_Male_grade3    626 non-null    float64\n",
      " 15  Ages[20-29]_Male_grade1    626 non-null    float64\n",
      " 16  Ages[20-29]_Male_grade2    626 non-null    float64\n",
      " 17  Ages[20-29]_Male_grade3    626 non-null    float64\n",
      " 18  Ages[30-39]_Male_grade1    625 non-null    float64\n",
      " 19  Ages[30-39]_Male_grade2    625 non-null    float64\n",
      " 20  Ages[30-39]_Male_grade3    625 non-null    float64\n",
      " 21  Ages[40-49]_Male_grade1    625 non-null    float64\n",
      " 22  Ages[40-49]_Male_grade2    625 non-null    float64\n",
      " 23  Ages[40-49]_Male_grade3    625 non-null    float64\n",
      " 24  Ages[15-49]_Female_grade1  626 non-null    float64\n",
      " 25  Ages[15-49]_Female_grade2  626 non-null    float64\n",
      " 26  Ages[15-49]_Female_grade3  626 non-null    float64\n",
      " 27  Ages[20-29]_Female_grade1  626 non-null    float64\n",
      " 28  Ages[20-29]_Female_grade2  626 non-null    float64\n",
      " 29  Ages[20-29]_Female_grade3  626 non-null    float64\n",
      " 30  Ages[30-39]_Female_grade1  625 non-null    float64\n",
      " 31  Ages[30-39]_Female_grade2  625 non-null    float64\n",
      " 32  Ages[30-39]_Female_grade3  625 non-null    float64\n",
      " 33  Ages[40-49]_Female_grade1  625 non-null    float64\n",
      " 34  Ages[40-49]_Female_grade2  625 non-null    float64\n",
      " 35  Ages[40-49]_Female_grade3  625 non-null    float64\n",
      " 36  country                    626 non-null    object \n",
      " 37  year                       626 non-null    int64  \n",
      "dtypes: float64(36), int64(1), object(1)\n",
      "memory usage: 186.0+ KB\n",
      "None\n"
     ]
    }
   ],
   "source": [
    "print(\"General Information about the dataset:\")\n",
    "print(df.info())\n"
   ]
  },
  {
   "cell_type": "code",
   "execution_count": null,
   "id": "e1b00555-e5bb-40af-8d73-9741b9b73a74",
   "metadata": {},
   "outputs": [],
   "source": []
  }
 ],
 "metadata": {
  "kernelspec": {
   "display_name": "Python 3 (ipykernel)",
   "language": "python",
   "name": "python3"
  },
  "language_info": {
   "codemirror_mode": {
    "name": "ipython",
    "version": 3
   },
   "file_extension": ".py",
   "mimetype": "text/x-python",
   "name": "python",
   "nbconvert_exporter": "python",
   "pygments_lexer": "ipython3",
   "version": "3.11.7"
  }
 },
 "nbformat": 4,
 "nbformat_minor": 5
}
