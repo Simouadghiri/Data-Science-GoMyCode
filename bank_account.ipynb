{
 "cells": [
  {
   "cell_type": "code",
   "execution_count": 20,
   "id": "3b579060-04e4-42b5-94f9-1e416bd629c6",
   "metadata": {},
   "outputs": [],
   "source": [
    "class Compte: \n",
    "    def __init__(self, numéro_compte, compte_balance, account_holder):\n",
    "        self.numéro_compte = numéro_compte\n",
    "        self.compte_balance = compte_balance\n",
    "        self.account_holder = account_holder"
   ]
  },
  {
   "cell_type": "code",
   "execution_count": 21,
   "id": "d57a7bc5-7151-41cb-9168-754efd52a715",
   "metadata": {},
   "outputs": [],
   "source": [
    "def deposit(self, amount):\n",
    "        self.compte_balance += amount\n",
    "        print(f\"{amount} $ déposé. Nouveau solde : {self.compte_balance} $\")"
   ]
  },
  {
   "cell_type": "code",
   "execution_count": 22,
   "id": "a1071c69-e655-4142-9724-7bbc19114e7f",
   "metadata": {},
   "outputs": [],
   "source": [
    "def remove(self, amount):\n",
    "        if self.compte_balance >= amount:\n",
    "            self.compte_balance -= amount\n",
    "            print(f\"{amount} $ retiré. Nouveau solde : {self.compte_balance} $\")\n",
    "        else:\n",
    "            print(\"Fonds insuffisants.\")"
   ]
  },
  {
   "cell_type": "code",
   "execution_count": 23,
   "id": "24e514b6-2783-4bd5-bfc1-5cc293d2be08",
   "metadata": {},
   "outputs": [],
   "source": [
    " def check_balance(self):\n",
    "        return self.compte_balance"
   ]
  },
  {
   "cell_type": "code",
   "execution_count": null,
   "id": "f9ef757c-4970-4b90-902b-f927ee39d6a7",
   "metadata": {},
   "outputs": [],
   "source": []
  },
  {
   "cell_type": "code",
   "execution_count": null,
   "id": "2af6a75a-ea62-4736-96df-962df27513b4",
   "metadata": {},
   "outputs": [],
   "source": []
  }
 ],
 "metadata": {
  "kernelspec": {
   "display_name": "Python 3 (ipykernel)",
   "language": "python",
   "name": "python3"
  },
  "language_info": {
   "codemirror_mode": {
    "name": "ipython",
    "version": 3
   },
   "file_extension": ".py",
   "mimetype": "text/x-python",
   "name": "python",
   "nbconvert_exporter": "python",
   "pygments_lexer": "ipython3",
   "version": "3.11.7"
  }
 },
 "nbformat": 4,
 "nbformat_minor": 5
}
