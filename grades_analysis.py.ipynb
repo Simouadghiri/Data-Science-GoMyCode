{
 "cells": [
  {
   "cell_type": "code",
   "execution_count": 1,
   "id": "4025898c-c68b-4071-8f05-df3861fade1f",
   "metadata": {},
   "outputs": [],
   "source": [
    "import numpy as np"
   ]
  },
  {
   "cell_type": "code",
   "execution_count": 2,
   "id": "dac18eb7-3fe9-4c39-9620-e6ce3576b228",
   "metadata": {},
   "outputs": [],
   "source": [
    "grades = np.array([85, 90, 88, 92, 95, 80, 75, 98, 89, 83])"
   ]
  },
  {
   "cell_type": "code",
   "execution_count": 3,
   "id": "558257cd-176c-42f8-9b8f-91b67209f1e6",
   "metadata": {},
   "outputs": [],
   "source": [
    "mean_grade = np.mean(grades)\n",
    "median_grade = np.median(grades)\n",
    "std_dev = np.std(grades)"
   ]
  },
  {
   "cell_type": "code",
   "execution_count": 4,
   "id": "3d188b5f-d415-4591-b303-9d61a0d844af",
   "metadata": {},
   "outputs": [],
   "source": [
    "max_grade = np.max(grades)\n",
    "min_grade = np.min(grades)"
   ]
  },
  {
   "cell_type": "code",
   "execution_count": 14,
   "id": "1b23fa7b-817d-4062-920d-e991d23fdc1d",
   "metadata": {},
   "outputs": [],
   "source": [
    "sorted_grades = np.sort(grades)"
   ]
  },
  {
   "cell_type": "code",
   "execution_count": 6,
   "id": "7f43968b-b694-4dd2-96ab-a767c7a02143",
   "metadata": {},
   "outputs": [],
   "source": [
    "highest_grade_index = np.argmax(grades)"
   ]
  },
  {
   "cell_type": "code",
   "execution_count": 7,
   "id": "c59676c1-66c4-41e9-b8bf-97529e5a7d23",
   "metadata": {},
   "outputs": [],
   "source": [
    "num_high_performers = np.sum(grades > 90)"
   ]
  },
  {
   "cell_type": "code",
   "execution_count": 8,
   "id": "93986241-e550-4e26-b998-f81defebad7c",
   "metadata": {},
   "outputs": [],
   "source": [
    "percent_high_performers = np.mean(grades > 90) * 100"
   ]
  },
  {
   "cell_type": "code",
   "execution_count": 9,
   "id": "3227ac58-4ef9-4520-9daa-d5d09c8b4c36",
   "metadata": {},
   "outputs": [],
   "source": [
    "percent_low_grades = np.mean(grades < 75) * 100"
   ]
  },
  {
   "cell_type": "code",
   "execution_count": 10,
   "id": "36ce0994-26d8-4c4e-960f-64613f8a6fb4",
   "metadata": {},
   "outputs": [],
   "source": [
    "high_performers = grades[grades > 90]"
   ]
  },
  {
   "cell_type": "code",
   "execution_count": 11,
   "id": "1d3c6157-4290-4f71-a512-a9dd32469534",
   "metadata": {},
   "outputs": [],
   "source": [
    "passing_grades = grades[grades > 75]"
   ]
  },
  {
   "cell_type": "code",
   "execution_count": 21,
   "id": "360138cb-befe-4572-a167-7cd7c5c08342",
   "metadata": {},
   "outputs": [
    {
     "name": "stdout",
     "output_type": "stream",
     "text": [
      "Moyenne des notes: 87.5\n",
      "Médiane des notes: 88.5\n",
      "Ecart-type des notes: 6.591661399070799\n",
      "Note maximale: 98\n",
      "Note minimale: 75\n",
      "Note par ordre croissant: [75 80 83 85 88 89 90 92 95 98]\n",
      "Index de la note la plus élévé: 7\n",
      "Le nombre d'élèves ayant obtenu un score supérieur à 90: 3\n",
      "Le pourcentage d'élèves ayant obtenu un score supérieur à 90: 30.0\n",
      "Le pourcentage d'élèves ayant obtenu un score inférieur à 75: 0.0\n",
      "Notes élève performant: [92 95 98]\n",
      "Notes de passage: [85 90 88 92 95 80 98 89 83]\n"
     ]
    }
   ],
   "source": [
    "print (\"Moyenne des notes:\" , mean_grade)\n",
    "print (\"Médiane des notes:\", median_grade)\n",
    "print (\"Ecart-type des notes:\" , std_dev)\n",
    "print (\"Note maximale:\" , max_grade)\n",
    "print (\"Note minimale:\", min_grade)\n",
    "print (\"Note par ordre croissant:\", sorted_grades)\n",
    "print (\"Index de la note la plus élévé:\" , highest_grade_index)\n",
    "print (\"Le nombre d'élèves ayant obtenu un score supérieur à 90:\", num_high_performers)\n",
    "print (\"Le pourcentage d'élèves ayant obtenu un score supérieur à 90:\", percent_high_performers)\n",
    "print (\"Le pourcentage d'élèves ayant obtenu un score inférieur à 75:\", percent_low_grades)\n",
    "print (\"Notes élève performant:\", high_performers)\n",
    "print (\"Notes de passage:\",passing_grades)\n"
   ]
  },
  {
   "cell_type": "code",
   "execution_count": null,
   "id": "ffa2baaf-9ba0-48b0-ae63-1c95ca762d4f",
   "metadata": {},
   "outputs": [],
   "source": []
  }
 ],
 "metadata": {
  "kernelspec": {
   "display_name": "Python 3 (ipykernel)",
   "language": "python",
   "name": "python3"
  },
  "language_info": {
   "codemirror_mode": {
    "name": "ipython",
    "version": 3
   },
   "file_extension": ".py",
   "mimetype": "text/x-python",
   "name": "python",
   "nbconvert_exporter": "python",
   "pygments_lexer": "ipython3",
   "version": "3.11.7"
  }
 },
 "nbformat": 4,
 "nbformat_minor": 5
}
