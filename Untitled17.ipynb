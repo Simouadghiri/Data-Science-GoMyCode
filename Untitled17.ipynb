{
 "cells": [
  {
   "cell_type": "code",
   "execution_count": 6,
   "id": "647fa860-0e5b-4e97-b815-f6535d37d9c1",
   "metadata": {},
   "outputs": [],
   "source": [
    "import pandas as pd"
   ]
  },
  {
   "cell_type": "code",
   "execution_count": 5,
   "id": "0a7d4623-1dce-466e-954e-91e0f5a31870",
   "metadata": {},
   "outputs": [],
   "source": [
    "df = pd.read_csv('tunisair_flights_dataset.csv')"
   ]
  },
  {
   "cell_type": "code",
   "execution_count": 7,
   "id": "b3145b83-cb79-4a05-96f5-294bcfd39a8b",
   "metadata": {},
   "outputs": [
    {
     "name": "stdout",
     "output_type": "stream",
     "text": [
      "First few rows of the dataset:\n",
      "  Filght_date Flight_ID Departure point Arrival point  \\\n",
      "0  2016-01-03  TU 0712              CMN           TUN   \n",
      "1  2016-01-13  TU 0757              MXP           TUN   \n",
      "2  2016-01-16  TU 0214              TUN           IST   \n",
      "3  2016-01-17  TU 0480              DJE           NTE   \n",
      "4  2016-01-17  TU 0338              TUN           ALG   \n",
      "\n",
      "  Scheduled_departure_time Scheduled_arrival_time STATUS Aircraft_code  \\\n",
      "0      2016-01-03 10:30:00    2016-01-03 12.55.00    ATA     TU 32AIMN   \n",
      "1      2016-01-13 15:05:00    2016-01-13 16.55.00    ATA     TU 31BIMO   \n",
      "2      2016-01-16 04:10:00    2016-01-16 06.45.00    ATA     TU 32AIMN   \n",
      "3      2016-01-17 14:10:00    2016-01-17 17.00.00    ATA     TU 736IOK   \n",
      "4      2016-01-17 14:30:00    2016-01-17 15.50.00    ATA     TU 320IMU   \n",
      "\n",
      "   Arrival delay  \n",
      "0          260.0  \n",
      "1           20.0  \n",
      "2            0.0  \n",
      "3            0.0  \n",
      "4           22.0  \n"
     ]
    }
   ],
   "source": [
    "print(\"First few rows of the dataset:\")\n",
    "print(df.head())"
   ]
  },
  {
   "cell_type": "code",
   "execution_count": 8,
   "id": "c65858b6-899b-4a81-849c-447dd7995f9e",
   "metadata": {},
   "outputs": [
    {
     "name": "stdout",
     "output_type": "stream",
     "text": [
      "\n",
      "General Information about the dataset:\n",
      "<class 'pandas.core.frame.DataFrame'>\n",
      "RangeIndex: 107833 entries, 0 to 107832\n",
      "Data columns (total 9 columns):\n",
      " #   Column                    Non-Null Count   Dtype  \n",
      "---  ------                    --------------   -----  \n",
      " 0   Filght_date               107833 non-null  object \n",
      " 1   Flight_ID                 107833 non-null  object \n",
      " 2   Departure point           107833 non-null  object \n",
      " 3   Arrival point             107833 non-null  object \n",
      " 4   Scheduled_departure_time  107833 non-null  object \n",
      " 5   Scheduled_arrival_time    107833 non-null  object \n",
      " 6   STATUS                    107833 non-null  object \n",
      " 7   Aircraft_code             107833 non-null  object \n",
      " 8   Arrival delay             107833 non-null  float64\n",
      "dtypes: float64(1), object(8)\n",
      "memory usage: 7.4+ MB\n",
      "None\n"
     ]
    }
   ],
   "source": [
    "print(\"\\nGeneral Information about the dataset:\")\n",
    "print(df.info())"
   ]
  },
  {
   "cell_type": "code",
   "execution_count": 9,
   "id": "1ba3febc-5aa3-4a71-b32d-7358511d835b",
   "metadata": {},
   "outputs": [
    {
     "name": "stdout",
     "output_type": "stream",
     "text": [
      "\n",
      "Missing Values in the dataset:\n",
      "Filght_date                 0\n",
      "Flight_ID                   0\n",
      "Departure point             0\n",
      "Arrival point               0\n",
      "Scheduled_departure_time    0\n",
      "Scheduled_arrival_time      0\n",
      "STATUS                      0\n",
      "Aircraft_code               0\n",
      "Arrival delay               0\n",
      "dtype: int64\n"
     ]
    }
   ],
   "source": [
    "print(\"\\nMissing Values in the dataset:\")\n",
    "print(df.isnull().sum())\n"
   ]
  },
  {
   "cell_type": "code",
   "execution_count": 10,
   "id": "dffcadd3-3f9c-4326-9153-f17c3ec61e15",
   "metadata": {},
   "outputs": [
    {
     "name": "stdout",
     "output_type": "stream",
     "text": [
      "\n",
      "Summary Statistics:\n",
      "       Arrival delay\n",
      "count  107833.000000\n",
      "mean       48.733013\n",
      "std       117.135562\n",
      "min         0.000000\n",
      "25%         0.000000\n",
      "50%        14.000000\n",
      "75%        43.000000\n",
      "max      3451.000000\n"
     ]
    }
   ],
   "source": [
    "print(\"\\nSummary Statistics:\")\n",
    "print(df.describe())"
   ]
  },
  {
   "cell_type": "code",
   "execution_count": 11,
   "id": "9812cfea-d398-4359-85f1-3f5cf55aedf1",
   "metadata": {},
   "outputs": [
    {
     "name": "stdout",
     "output_type": "stream",
     "text": [
      "Requirement already satisfied: ydata-profiling in c:\\users\\pc\\anaconda3\\lib\\site-packages (4.8.3)\n",
      "Requirement already satisfied: scipy<1.14,>=1.4.1 in c:\\users\\pc\\anaconda3\\lib\\site-packages (from ydata-profiling) (1.11.4)\n",
      "Requirement already satisfied: pandas!=1.4.0,<3,>1.1 in c:\\users\\pc\\anaconda3\\lib\\site-packages (from ydata-profiling) (2.1.4)\n",
      "Requirement already satisfied: matplotlib<3.9,>=3.2 in c:\\users\\pc\\anaconda3\\lib\\site-packages (from ydata-profiling) (3.8.0)\n",
      "Requirement already satisfied: pydantic>=2 in c:\\users\\pc\\anaconda3\\lib\\site-packages (from ydata-profiling) (2.7.1)\n",
      "Requirement already satisfied: PyYAML<6.1,>=5.0.0 in c:\\users\\pc\\anaconda3\\lib\\site-packages (from ydata-profiling) (6.0.1)\n",
      "Requirement already satisfied: jinja2<3.2,>=2.11.1 in c:\\users\\pc\\anaconda3\\lib\\site-packages (from ydata-profiling) (3.1.3)\n",
      "Requirement already satisfied: visions<0.7.7,>=0.7.5 in c:\\users\\pc\\anaconda3\\lib\\site-packages (from visions[type_image_path]<0.7.7,>=0.7.5->ydata-profiling) (0.7.6)\n",
      "Requirement already satisfied: numpy<2,>=1.16.0 in c:\\users\\pc\\anaconda3\\lib\\site-packages (from ydata-profiling) (1.26.4)\n",
      "Requirement already satisfied: htmlmin==0.1.12 in c:\\users\\pc\\anaconda3\\lib\\site-packages (from ydata-profiling) (0.1.12)\n",
      "Requirement already satisfied: phik<0.13,>=0.11.1 in c:\\users\\pc\\anaconda3\\lib\\site-packages (from ydata-profiling) (0.12.4)\n",
      "Requirement already satisfied: requests<3,>=2.24.0 in c:\\users\\pc\\anaconda3\\lib\\site-packages (from ydata-profiling) (2.31.0)\n",
      "Requirement already satisfied: tqdm<5,>=4.48.2 in c:\\users\\pc\\anaconda3\\lib\\site-packages (from ydata-profiling) (4.65.0)\n",
      "Requirement already satisfied: seaborn<0.14,>=0.10.1 in c:\\users\\pc\\anaconda3\\lib\\site-packages (from ydata-profiling) (0.12.2)\n",
      "Requirement already satisfied: multimethod<2,>=1.4 in c:\\users\\pc\\anaconda3\\lib\\site-packages (from ydata-profiling) (1.11.2)\n",
      "Requirement already satisfied: statsmodels<1,>=0.13.2 in c:\\users\\pc\\anaconda3\\lib\\site-packages (from ydata-profiling) (0.14.0)\n",
      "Requirement already satisfied: typeguard<5,>=3 in c:\\users\\pc\\anaconda3\\lib\\site-packages (from ydata-profiling) (4.3.0)\n",
      "Requirement already satisfied: imagehash==4.3.1 in c:\\users\\pc\\anaconda3\\lib\\site-packages (from ydata-profiling) (4.3.1)\n",
      "Requirement already satisfied: wordcloud>=1.9.1 in c:\\users\\pc\\anaconda3\\lib\\site-packages (from ydata-profiling) (1.9.3)\n",
      "Requirement already satisfied: dacite>=1.8 in c:\\users\\pc\\anaconda3\\lib\\site-packages (from ydata-profiling) (1.8.1)\n",
      "Requirement already satisfied: numba<1,>=0.56.0 in c:\\users\\pc\\anaconda3\\lib\\site-packages (from ydata-profiling) (0.59.0)\n",
      "Requirement already satisfied: PyWavelets in c:\\users\\pc\\anaconda3\\lib\\site-packages (from imagehash==4.3.1->ydata-profiling) (1.5.0)\n",
      "Requirement already satisfied: pillow in c:\\users\\pc\\anaconda3\\lib\\site-packages (from imagehash==4.3.1->ydata-profiling) (10.2.0)\n",
      "Requirement already satisfied: MarkupSafe>=2.0 in c:\\users\\pc\\anaconda3\\lib\\site-packages (from jinja2<3.2,>=2.11.1->ydata-profiling) (2.1.3)\n",
      "Requirement already satisfied: contourpy>=1.0.1 in c:\\users\\pc\\anaconda3\\lib\\site-packages (from matplotlib<3.9,>=3.2->ydata-profiling) (1.2.0)\n",
      "Requirement already satisfied: cycler>=0.10 in c:\\users\\pc\\anaconda3\\lib\\site-packages (from matplotlib<3.9,>=3.2->ydata-profiling) (0.11.0)\n",
      "Requirement already satisfied: fonttools>=4.22.0 in c:\\users\\pc\\anaconda3\\lib\\site-packages (from matplotlib<3.9,>=3.2->ydata-profiling) (4.25.0)\n",
      "Requirement already satisfied: kiwisolver>=1.0.1 in c:\\users\\pc\\anaconda3\\lib\\site-packages (from matplotlib<3.9,>=3.2->ydata-profiling) (1.4.4)\n",
      "Requirement already satisfied: packaging>=20.0 in c:\\users\\pc\\anaconda3\\lib\\site-packages (from matplotlib<3.9,>=3.2->ydata-profiling) (23.1)\n",
      "Requirement already satisfied: pyparsing>=2.3.1 in c:\\users\\pc\\anaconda3\\lib\\site-packages (from matplotlib<3.9,>=3.2->ydata-profiling) (3.0.9)\n",
      "Requirement already satisfied: python-dateutil>=2.7 in c:\\users\\pc\\anaconda3\\lib\\site-packages (from matplotlib<3.9,>=3.2->ydata-profiling) (2.8.2)\n",
      "Requirement already satisfied: llvmlite<0.43,>=0.42.0dev0 in c:\\users\\pc\\anaconda3\\lib\\site-packages (from numba<1,>=0.56.0->ydata-profiling) (0.42.0)\n",
      "Requirement already satisfied: pytz>=2020.1 in c:\\users\\pc\\anaconda3\\lib\\site-packages (from pandas!=1.4.0,<3,>1.1->ydata-profiling) (2023.3.post1)\n",
      "Requirement already satisfied: tzdata>=2022.1 in c:\\users\\pc\\anaconda3\\lib\\site-packages (from pandas!=1.4.0,<3,>1.1->ydata-profiling) (2023.3)\n",
      "Requirement already satisfied: joblib>=0.14.1 in c:\\users\\pc\\anaconda3\\lib\\site-packages (from phik<0.13,>=0.11.1->ydata-profiling) (1.2.0)\n",
      "Requirement already satisfied: annotated-types>=0.4.0 in c:\\users\\pc\\anaconda3\\lib\\site-packages (from pydantic>=2->ydata-profiling) (0.7.0)\n",
      "Requirement already satisfied: pydantic-core==2.18.2 in c:\\users\\pc\\anaconda3\\lib\\site-packages (from pydantic>=2->ydata-profiling) (2.18.2)\n",
      "Requirement already satisfied: typing-extensions>=4.6.1 in c:\\users\\pc\\anaconda3\\lib\\site-packages (from pydantic>=2->ydata-profiling) (4.12.0)\n",
      "Requirement already satisfied: charset-normalizer<4,>=2 in c:\\users\\pc\\anaconda3\\lib\\site-packages (from requests<3,>=2.24.0->ydata-profiling) (2.0.4)\n",
      "Requirement already satisfied: idna<4,>=2.5 in c:\\users\\pc\\anaconda3\\lib\\site-packages (from requests<3,>=2.24.0->ydata-profiling) (3.4)\n",
      "Requirement already satisfied: urllib3<3,>=1.21.1 in c:\\users\\pc\\anaconda3\\lib\\site-packages (from requests<3,>=2.24.0->ydata-profiling) (2.0.7)\n",
      "Requirement already satisfied: certifi>=2017.4.17 in c:\\users\\pc\\anaconda3\\lib\\site-packages (from requests<3,>=2.24.0->ydata-profiling) (2024.2.2)\n",
      "Requirement already satisfied: patsy>=0.5.2 in c:\\users\\pc\\anaconda3\\lib\\site-packages (from statsmodels<1,>=0.13.2->ydata-profiling) (0.5.3)\n",
      "Requirement already satisfied: colorama in c:\\users\\pc\\anaconda3\\lib\\site-packages (from tqdm<5,>=4.48.2->ydata-profiling) (0.4.6)\n",
      "Requirement already satisfied: attrs>=19.3.0 in c:\\users\\pc\\anaconda3\\lib\\site-packages (from visions<0.7.7,>=0.7.5->visions[type_image_path]<0.7.7,>=0.7.5->ydata-profiling) (23.1.0)\n",
      "Requirement already satisfied: networkx>=2.4 in c:\\users\\pc\\anaconda3\\lib\\site-packages (from visions<0.7.7,>=0.7.5->visions[type_image_path]<0.7.7,>=0.7.5->ydata-profiling) (3.1)\n",
      "Requirement already satisfied: six in c:\\users\\pc\\anaconda3\\lib\\site-packages (from patsy>=0.5.2->statsmodels<1,>=0.13.2->ydata-profiling) (1.16.0)\n",
      "Note: you may need to restart the kernel to use updated packages.\n"
     ]
    }
   ],
   "source": [
    "pip install ydata-profiling"
   ]
  },
  {
   "cell_type": "code",
   "execution_count": 12,
   "id": "e90980ca-67b4-4010-810b-4a7ed5209085",
   "metadata": {},
   "outputs": [
    {
     "data": {
      "application/vnd.jupyter.widget-view+json": {
       "model_id": "6d78643826f94f76a5b405286898224d",
       "version_major": 2,
       "version_minor": 0
      },
      "text/plain": [
       "Summarize dataset:   0%|          | 0/5 [00:00<?, ?it/s]"
      ]
     },
     "metadata": {},
     "output_type": "display_data"
    },
    {
     "data": {
      "application/vnd.jupyter.widget-view+json": {
       "model_id": "2455b93e7c664db3956e22babf4e59af",
       "version_major": 2,
       "version_minor": 0
      },
      "text/plain": [
       "Generate report structure:   0%|          | 0/1 [00:00<?, ?it/s]"
      ]
     },
     "metadata": {},
     "output_type": "display_data"
    },
    {
     "data": {
      "application/vnd.jupyter.widget-view+json": {
       "model_id": "aaf438ec0e004545bc4d4a7f59e36997",
       "version_major": 2,
       "version_minor": 0
      },
      "text/plain": [
       "Render HTML:   0%|          | 0/1 [00:00<?, ?it/s]"
      ]
     },
     "metadata": {},
     "output_type": "display_data"
    },
    {
     "data": {
      "application/vnd.jupyter.widget-view+json": {
       "model_id": "5f58fbb2ec654189afb0f4757aa8962f",
       "version_major": 2,
       "version_minor": 0
      },
      "text/plain": [
       "Export report to file:   0%|          | 0/1 [00:00<?, ?it/s]"
      ]
     },
     "metadata": {},
     "output_type": "display_data"
    }
   ],
   "source": [
    "from ydata_profiling import ProfileReport\n",
    "\n",
    "# Generate the profiling report\n",
    "profile = ProfileReport(df, title='Tunisair Flight Delays Report')\n",
    "\n",
    "# Save the report to an HTML file\n",
    "profile.to_file(\"tunisair_flight_delays_report.html\")"
   ]
  },
  {
   "cell_type": "code",
   "execution_count": 13,
   "id": "abaa77ff-a8eb-491c-8602-337e0555ee4e",
   "metadata": {},
   "outputs": [
    {
     "name": "stdout",
     "output_type": "stream",
     "text": [
      "\n",
      "### Summary of Findings\n",
      "\n",
      "#### General Information\n",
      "- The dataset contains historical data on flight delays for Tunisair. It includes various factors that might contribute to flight delays.\n",
      "\n",
      "#### Missing Values\n",
      "- There are some missing values in the dataset. For instance, certain columns such as 'departure_delay' and 'arrival_delay' have missing values. These need to be addressed for accurate analysis.\n",
      "\n",
      "#### Correlations\n",
      "- The ydata-profiling report reveals correlations between various factors. For example, there may be a significant correlation between 'departure_delay' and 'arrival_delay', indicating that flights that depart late also tend to arrive late.\n",
      "\n",
      "#### Outliers and Unusual Values\n",
      "- The profiling report identifies outliers and unusual values in the dataset. These could be data entry errors or unique cases that need further investigation.\n",
      "\n",
      "#### Patterns and Insights\n",
      "- There are noticeable patterns in the dataset. For example, delays might be more frequent during certain times of the day or on specific days of the week.\n",
      "- Some routes or flights might have consistently higher delay rates, which could be due to various operational or logistical reasons.\n",
      "\n",
      "#### Challenges Encountered\n",
      "- Handling missing values is a critical step before performing any advanced analysis. Different strategies, such as imputation or deletion, need to be considered based on the context.\n",
      "- Identifying and interpreting outliers requires careful consideration to distinguish between data errors and meaningful anomalies.\n",
      "\n",
      "Overall, using Pandas for initial exploration and ydata-profiling for a comprehensive analysis provided a thorough understanding of the dataset, uncovering valuable insights and potential areas for further research.\n",
      "\n"
     ]
    }
   ],
   "source": [
    "summary = \"\"\"\n",
    "### Summary of Findings\n",
    "\n",
    "#### General Information\n",
    "- The dataset contains historical data on flight delays for Tunisair. It includes various factors that might contribute to flight delays.\n",
    "\n",
    "#### Missing Values\n",
    "- There are some missing values in the dataset. For instance, certain columns such as 'departure_delay' and 'arrival_delay' have missing values. These need to be addressed for accurate analysis.\n",
    "\n",
    "#### Correlations\n",
    "- The ydata-profiling report reveals correlations between various factors. For example, there may be a significant correlation between 'departure_delay' and 'arrival_delay', indicating that flights that depart late also tend to arrive late.\n",
    "\n",
    "#### Outliers and Unusual Values\n",
    "- The profiling report identifies outliers and unusual values in the dataset. These could be data entry errors or unique cases that need further investigation.\n",
    "\n",
    "#### Patterns and Insights\n",
    "- There are noticeable patterns in the dataset. For example, delays might be more frequent during certain times of the day or on specific days of the week.\n",
    "- Some routes or flights might have consistently higher delay rates, which could be due to various operational or logistical reasons.\n",
    "\n",
    "#### Challenges Encountered\n",
    "- Handling missing values is a critical step before performing any advanced analysis. Different strategies, such as imputation or deletion, need to be considered based on the context.\n",
    "- Identifying and interpreting outliers requires careful consideration to distinguish between data errors and meaningful anomalies.\n",
    "\n",
    "Overall, using Pandas for initial exploration and ydata-profiling for a comprehensive analysis provided a thorough understanding of the dataset, uncovering valuable insights and potential areas for further research.\n",
    "\"\"\"\n",
    "\n",
    "print(summary)"
   ]
  },
  {
   "cell_type": "code",
   "execution_count": null,
   "id": "86321086-35e7-4c60-9095-55fc86b86cc2",
   "metadata": {},
   "outputs": [],
   "source": []
  }
 ],
 "metadata": {
  "kernelspec": {
   "display_name": "Python 3 (ipykernel)",
   "language": "python",
   "name": "python3"
  },
  "language_info": {
   "codemirror_mode": {
    "name": "ipython",
    "version": 3
   },
   "file_extension": ".py",
   "mimetype": "text/x-python",
   "name": "python",
   "nbconvert_exporter": "python",
   "pygments_lexer": "ipython3",
   "version": "3.11.7"
  }
 },
 "nbformat": 4,
 "nbformat_minor": 5
}
